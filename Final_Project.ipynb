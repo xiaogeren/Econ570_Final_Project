{
 "cells": [
  {
   "cell_type": "markdown",
   "id": "71022bdf",
   "metadata": {},
   "source": [
    "# 1. Introduction"
   ]
  },
  {
   "cell_type": "markdown",
   "id": "904f6e0c",
   "metadata": {},
   "source": [
    "### 1.b Topic Background and Why should We Care\n",
    "\n",
    "Education has long been a vital step for human growth and development of a society. It helps people understand their full potential and enhance their capabilities of promoting creativity and productivity in the world. Education at school is very important in a way that it develops students’ mindsets and prepares them for complex real-world problems in the future. Only when more students can succeed at school, can we have more opportunities to have changemakers succeed in enabling a better living for our society, to constantly adapt and innovate. Thus, it is necessary to pay attention to students’ academic scores at school and explore what factors contribute to students’ performance so that educators can understand how to foster students’ academic success. Parental education has been found to highly correlate with students’ success in school. According to Education Next, “educated parents enhance their children’s development and human capital by drawing on their own advanced language skills in communicating with their children,” which means that the children of highly educated parents can have an advantage in complex speech before they even start school; besides, “highly educated parents can also use their social capital to promote their children’s development”, so that children will look up to well-educated individuals they socialize with and expect they too will attain high levels of academic success (Egalite, 2016). Therefore, we will consider parental education as the main factor affecting students' academic performance in this research.\n"
   ]
  },
  {
   "cell_type": "markdown",
   "id": "b476ebf5",
   "metadata": {},
   "source": [
    "### 1.a Research Question Being Answered\n",
    "We will focus on high school students from the United States and mainly discuss the casual relationship between parental education and students’ academic scores. Our research question is “what is the effect of parental level of education on students’ academic scores?” We propose that parental level of education have a positive and significant impact on students' academic scores.\n"
   ]
  },
  {
   "cell_type": "markdown",
   "id": "a4148fe5",
   "metadata": {},
   "source": [
    "### 1.c Literature Review\n",
    "\n",
    "Farooq et al. (2011) in their study examine different factors influencing the academic performance of secondary school students in a metropolitan city of Pakistan. By applying descriptive and inferential statistical measures, the research uses standard t-test and ANOVA to investigate the effect of different factors on students’ achievement. The results reveal that socioeconomic status (SES) and parents’ education have a significant effect on students’ overall academic achievement as well as achievement in the subjects of Mathematics and English. The high and average socio-economic level affects the performance more than the lower level. Parents’ education affects children’s academic performance at school more than their occupation. The results also indicate that girls perform better than the male students. \n",
    "\n",
    "Hijazi and Naqvi (2006) in their study use a simple linear regression model to analyze the relationship between college students’ performance and selected potential influencing variables, i.e., student’s attitude towards attendance in class, hours spent in study on daily bases after college, students’ family income, students’ mother’s age and mother’s education. The study indicates that all selected variables have a significant and positive relationship with students’ performance except for family income and hours spent in study; these two variables are found to be significantly and negatively related to students’ performance. \n",
    "\n",
    "Jaggia and Kelly-Hawke (1999) in their study measure student performance by using the 1992 Massachusetts Educational Assessment Program (MEAP) test scores from 4th. 8th. and 12th grade students. With linear regression analysis, the study shows that family background and the stability of a community are the main factors affecting student performance. The data suggest that higher levels of spending have no consistent or systematic relation with student performance. \n",
    "\n"
   ]
  },
  {
   "cell_type": "markdown",
   "id": "58374639",
   "metadata": {},
   "source": [
    "\n",
    "\n",
    "\n",
    "\n",
    "\n",
    "\n",
    "\n",
    "\n",
    "\n",
    "\n",
    "\n",
    "# 2. Data\n",
    "\n",
    "### 2.a describe the source of data\n",
    "\n",
    "Our sample data set contains data about 1000 American high school students, regarding their gender, race, parental level of education, lunch situation, test preperation course completion status, and their test scores on three subjuects. \n",
    "\n",
    "Source: we found this dataset on Kaggle, the title of this dataset is Students' Performance in Exams. https://www.kaggle.com/datasets/spscientist/students-performance-in-exams\n",
    "    \n",
    "  \n",
    "  \n",
    "  "
   ]
  },
  {
   "cell_type": "code",
   "execution_count": 1,
   "id": "c6c26f53",
   "metadata": {},
   "outputs": [],
   "source": [
    "import pandas as pd\n",
    "import numpy as np\n",
    "import matplotlib.pyplot as plt\n",
    "import seaborn as sns"
   ]
  },
  {
   "cell_type": "code",
   "execution_count": 2,
   "id": "2700aeee",
   "metadata": {
    "scrolled": true
   },
   "outputs": [
    {
     "data": {
      "text/html": [
       "<div>\n",
       "<style scoped>\n",
       "    .dataframe tbody tr th:only-of-type {\n",
       "        vertical-align: middle;\n",
       "    }\n",
       "\n",
       "    .dataframe tbody tr th {\n",
       "        vertical-align: top;\n",
       "    }\n",
       "\n",
       "    .dataframe thead th {\n",
       "        text-align: right;\n",
       "    }\n",
       "</style>\n",
       "<table border=\"1\" class=\"dataframe\">\n",
       "  <thead>\n",
       "    <tr style=\"text-align: right;\">\n",
       "      <th></th>\n",
       "      <th>gender</th>\n",
       "      <th>race/ethnicity</th>\n",
       "      <th>parental level of education</th>\n",
       "      <th>lunch</th>\n",
       "      <th>test preparation course</th>\n",
       "      <th>math score</th>\n",
       "      <th>reading score</th>\n",
       "      <th>writing score</th>\n",
       "    </tr>\n",
       "  </thead>\n",
       "  <tbody>\n",
       "    <tr>\n",
       "      <th>0</th>\n",
       "      <td>female</td>\n",
       "      <td>group B</td>\n",
       "      <td>bachelor's degree</td>\n",
       "      <td>standard</td>\n",
       "      <td>none</td>\n",
       "      <td>72</td>\n",
       "      <td>72</td>\n",
       "      <td>74</td>\n",
       "    </tr>\n",
       "    <tr>\n",
       "      <th>1</th>\n",
       "      <td>female</td>\n",
       "      <td>group C</td>\n",
       "      <td>some college</td>\n",
       "      <td>standard</td>\n",
       "      <td>completed</td>\n",
       "      <td>69</td>\n",
       "      <td>90</td>\n",
       "      <td>88</td>\n",
       "    </tr>\n",
       "    <tr>\n",
       "      <th>2</th>\n",
       "      <td>female</td>\n",
       "      <td>group B</td>\n",
       "      <td>master's degree</td>\n",
       "      <td>standard</td>\n",
       "      <td>none</td>\n",
       "      <td>90</td>\n",
       "      <td>95</td>\n",
       "      <td>93</td>\n",
       "    </tr>\n",
       "    <tr>\n",
       "      <th>3</th>\n",
       "      <td>male</td>\n",
       "      <td>group A</td>\n",
       "      <td>associate's degree</td>\n",
       "      <td>free/reduced</td>\n",
       "      <td>none</td>\n",
       "      <td>47</td>\n",
       "      <td>57</td>\n",
       "      <td>44</td>\n",
       "    </tr>\n",
       "    <tr>\n",
       "      <th>4</th>\n",
       "      <td>male</td>\n",
       "      <td>group C</td>\n",
       "      <td>some college</td>\n",
       "      <td>standard</td>\n",
       "      <td>none</td>\n",
       "      <td>76</td>\n",
       "      <td>78</td>\n",
       "      <td>75</td>\n",
       "    </tr>\n",
       "  </tbody>\n",
       "</table>\n",
       "</div>"
      ],
      "text/plain": [
       "   gender race/ethnicity parental level of education         lunch  \\\n",
       "0  female        group B           bachelor's degree      standard   \n",
       "1  female        group C                some college      standard   \n",
       "2  female        group B             master's degree      standard   \n",
       "3    male        group A          associate's degree  free/reduced   \n",
       "4    male        group C                some college      standard   \n",
       "\n",
       "  test preparation course  math score  reading score  writing score  \n",
       "0                    none          72             72             74  \n",
       "1               completed          69             90             88  \n",
       "2                    none          90             95             93  \n",
       "3                    none          47             57             44  \n",
       "4                    none          76             78             75  "
      ]
     },
     "execution_count": 2,
     "metadata": {},
     "output_type": "execute_result"
    }
   ],
   "source": [
    "data = pd.read_csv(r'D:\\USC\\Econ 570\\final project\\StudentsPerformance.csv')\n",
    "data.head()"
   ]
  },
  {
   "cell_type": "markdown",
   "id": "144f7203",
   "metadata": {},
   "source": [
    "\n",
    "\n",
    "\n",
    "\n",
    "### 2.b Data modification\n",
    "\n",
    "We dropped data about students' gender and race. We do not consider the effect of these two factors in our model as we think this would result in discrimination issues. The main datasets about factors we want to include in our research are parental level of education, lunch, and test preparation course.\n",
    "\n",
    "We add students' scores in three subjects, math, reading, and writing, together to get a total score as our dependent variable, indicating students’ academic performance.\n",
    "\n",
    "We only use one datasets in this research. To better analyze, we ranked the parental level of education from 0 to 5, corresponding to some high school, high school, some college, associate, Bachelor, and master; for the lunch factor, we assigned value 0 to free/reduced and 1 to standard; for test preparation course factor, we assigned value 0 to none and 1 to completed. "
   ]
  },
  {
   "cell_type": "code",
   "execution_count": 3,
   "id": "d9b85b07",
   "metadata": {},
   "outputs": [
    {
     "data": {
      "text/html": [
       "<div>\n",
       "<style scoped>\n",
       "    .dataframe tbody tr th:only-of-type {\n",
       "        vertical-align: middle;\n",
       "    }\n",
       "\n",
       "    .dataframe tbody tr th {\n",
       "        vertical-align: top;\n",
       "    }\n",
       "\n",
       "    .dataframe thead th {\n",
       "        text-align: right;\n",
       "    }\n",
       "</style>\n",
       "<table border=\"1\" class=\"dataframe\">\n",
       "  <thead>\n",
       "    <tr style=\"text-align: right;\">\n",
       "      <th></th>\n",
       "      <th>parent_edu</th>\n",
       "      <th>lunch</th>\n",
       "      <th>pre</th>\n",
       "      <th>math</th>\n",
       "      <th>reading</th>\n",
       "      <th>writing</th>\n",
       "      <th>total</th>\n",
       "    </tr>\n",
       "  </thead>\n",
       "  <tbody>\n",
       "    <tr>\n",
       "      <th>0</th>\n",
       "      <td>bachelor</td>\n",
       "      <td>standard</td>\n",
       "      <td>none</td>\n",
       "      <td>72</td>\n",
       "      <td>72</td>\n",
       "      <td>74</td>\n",
       "      <td>218</td>\n",
       "    </tr>\n",
       "    <tr>\n",
       "      <th>1</th>\n",
       "      <td>some_college</td>\n",
       "      <td>standard</td>\n",
       "      <td>completed</td>\n",
       "      <td>69</td>\n",
       "      <td>90</td>\n",
       "      <td>88</td>\n",
       "      <td>247</td>\n",
       "    </tr>\n",
       "    <tr>\n",
       "      <th>2</th>\n",
       "      <td>master</td>\n",
       "      <td>standard</td>\n",
       "      <td>none</td>\n",
       "      <td>90</td>\n",
       "      <td>95</td>\n",
       "      <td>93</td>\n",
       "      <td>278</td>\n",
       "    </tr>\n",
       "    <tr>\n",
       "      <th>3</th>\n",
       "      <td>associate</td>\n",
       "      <td>free/reduced</td>\n",
       "      <td>none</td>\n",
       "      <td>47</td>\n",
       "      <td>57</td>\n",
       "      <td>44</td>\n",
       "      <td>148</td>\n",
       "    </tr>\n",
       "    <tr>\n",
       "      <th>4</th>\n",
       "      <td>some_college</td>\n",
       "      <td>standard</td>\n",
       "      <td>none</td>\n",
       "      <td>76</td>\n",
       "      <td>78</td>\n",
       "      <td>75</td>\n",
       "      <td>229</td>\n",
       "    </tr>\n",
       "  </tbody>\n",
       "</table>\n",
       "</div>"
      ],
      "text/plain": [
       "     parent_edu         lunch        pre  math  reading  writing  total\n",
       "0      bachelor      standard       none    72       72       74    218\n",
       "1  some_college      standard  completed    69       90       88    247\n",
       "2        master      standard       none    90       95       93    278\n",
       "3     associate  free/reduced       none    47       57       44    148\n",
       "4  some_college      standard       none    76       78       75    229"
      ]
     },
     "execution_count": 3,
     "metadata": {},
     "output_type": "execute_result"
    }
   ],
   "source": [
    "data.drop('gender', inplace = True,axis = 1)\n",
    "data.drop('race/ethnicity', inplace = True, axis = 1)\n",
    "\n",
    "data.rename(columns={\"parental level of education\":\"parent_edu\"\n",
    "                    ,\"math score\":\"math\",\"reading score\":\"reading\",\"writing score\":\"writing\",\n",
    "                    \"test preparation course\":\"pre\"},inplace=True)\n",
    "\n",
    "data[\"parent_edu\"].replace([\"some high school\", \"high school\",\"some college\", \"bachelor's degree\", \"associate's degree\", \"master's degree\"], \n",
    "                           ['some_high','high','some_college','bachelor','associate','master'], inplace=True)\n",
    "\n",
    "data['total'] = data['math'] + data['reading'] + data['writing']\n",
    "\n",
    "data.head()"
   ]
  },
  {
   "cell_type": "markdown",
   "id": "7ea3ab2d",
   "metadata": {},
   "source": [
    "\n",
    "\n",
    "\n",
    "### 2.c Summary Statistics\n",
    "\n",
    "\n",
    "### Parental Education Status"
   ]
  },
  {
   "cell_type": "code",
   "execution_count": 4,
   "id": "aa59f245",
   "metadata": {},
   "outputs": [
    {
     "data": {
      "text/plain": [
       "([<matplotlib.patches.Wedge at 0x24fc236a1c0>,\n",
       "  <matplotlib.patches.Wedge at 0x24fc236a700>,\n",
       "  <matplotlib.patches.Wedge at 0x24fc236abe0>,\n",
       "  <matplotlib.patches.Wedge at 0x24fc2380100>,\n",
       "  <matplotlib.patches.Wedge at 0x24fc23805e0>,\n",
       "  <matplotlib.patches.Wedge at 0x24fc2380ac0>],\n",
       " [Text(0.8341981156790161, 0.717017087521336, 'some_high'),\n",
       "  Text(-0.5717990621018805, 0.939705183863221, 'high'),\n",
       "  Text(-1.0543739750814827, -0.3135211646298753, 'some_college'),\n",
       "  Text(-0.11383566476996158, -1.0940938905900084, 'bachelor'),\n",
       "  Text(0.8112644257554884, -0.7428660925790178, 'associate'),\n",
       "  Text(1.0811581857178525, -0.20272389463327067, 'master')])"
      ]
     },
     "execution_count": 4,
     "metadata": {},
     "output_type": "execute_result"
    },
    {
     "data": {
      "image/png": "[encoded data removed]",
      "text/plain": [
       "<Figure size 432x288 with 1 Axes>"
      ]
     },
     "metadata": {},
     "output_type": "display_data"
    }
   ],
   "source": [
    "plt.pie(data['parent_edu'].value_counts() , labels = ['some_high','high','some_college','bachelor','associate','master'] )"
   ]
  },
  {
   "cell_type": "markdown",
   "id": "1d84e523",
   "metadata": {},
   "source": [
    "### Scores"
   ]
  },
  {
   "cell_type": "code",
   "execution_count": 5,
   "id": "78ff90d1",
   "metadata": {},
   "outputs": [
    {
     "data": {
      "text/html": [
       "<div>\n",
       "<style scoped>\n",
       "    .dataframe tbody tr th:only-of-type {\n",
       "        vertical-align: middle;\n",
       "    }\n",
       "\n",
       "    .dataframe tbody tr th {\n",
       "        vertical-align: top;\n",
       "    }\n",
       "\n",
       "    .dataframe thead th {\n",
       "        text-align: right;\n",
       "    }\n",
       "</style>\n",
       "<table border=\"1\" class=\"dataframe\">\n",
       "  <thead>\n",
       "    <tr style=\"text-align: right;\">\n",
       "      <th></th>\n",
       "      <th>math</th>\n",
       "      <th>reading</th>\n",
       "      <th>writing</th>\n",
       "      <th>total</th>\n",
       "    </tr>\n",
       "  </thead>\n",
       "  <tbody>\n",
       "    <tr>\n",
       "      <th>count</th>\n",
       "      <td>1000.00000</td>\n",
       "      <td>1000.000000</td>\n",
       "      <td>1000.000000</td>\n",
       "      <td>1000.000000</td>\n",
       "    </tr>\n",
       "    <tr>\n",
       "      <th>mean</th>\n",
       "      <td>66.08900</td>\n",
       "      <td>69.169000</td>\n",
       "      <td>68.054000</td>\n",
       "      <td>203.312000</td>\n",
       "    </tr>\n",
       "    <tr>\n",
       "      <th>std</th>\n",
       "      <td>15.16308</td>\n",
       "      <td>14.600192</td>\n",
       "      <td>15.195657</td>\n",
       "      <td>42.771978</td>\n",
       "    </tr>\n",
       "    <tr>\n",
       "      <th>min</th>\n",
       "      <td>0.00000</td>\n",
       "      <td>17.000000</td>\n",
       "      <td>10.000000</td>\n",
       "      <td>27.000000</td>\n",
       "    </tr>\n",
       "    <tr>\n",
       "      <th>25%</th>\n",
       "      <td>57.00000</td>\n",
       "      <td>59.000000</td>\n",
       "      <td>57.750000</td>\n",
       "      <td>175.000000</td>\n",
       "    </tr>\n",
       "    <tr>\n",
       "      <th>50%</th>\n",
       "      <td>66.00000</td>\n",
       "      <td>70.000000</td>\n",
       "      <td>69.000000</td>\n",
       "      <td>205.000000</td>\n",
       "    </tr>\n",
       "    <tr>\n",
       "      <th>75%</th>\n",
       "      <td>77.00000</td>\n",
       "      <td>79.000000</td>\n",
       "      <td>79.000000</td>\n",
       "      <td>233.000000</td>\n",
       "    </tr>\n",
       "    <tr>\n",
       "      <th>max</th>\n",
       "      <td>100.00000</td>\n",
       "      <td>100.000000</td>\n",
       "      <td>100.000000</td>\n",
       "      <td>300.000000</td>\n",
       "    </tr>\n",
       "  </tbody>\n",
       "</table>\n",
       "</div>"
      ],
      "text/plain": [
       "             math      reading      writing        total\n",
       "count  1000.00000  1000.000000  1000.000000  1000.000000\n",
       "mean     66.08900    69.169000    68.054000   203.312000\n",
       "std      15.16308    14.600192    15.195657    42.771978\n",
       "min       0.00000    17.000000    10.000000    27.000000\n",
       "25%      57.00000    59.000000    57.750000   175.000000\n",
       "50%      66.00000    70.000000    69.000000   205.000000\n",
       "75%      77.00000    79.000000    79.000000   233.000000\n",
       "max     100.00000   100.000000   100.000000   300.000000"
      ]
     },
     "execution_count": 5,
     "metadata": {},
     "output_type": "execute_result"
    }
   ],
   "source": [
    "\n",
    "data.describe ()"
   ]
  },
  {
   "cell_type": "code",
   "execution_count": 6,
   "id": "029596bc",
   "metadata": {},
   "outputs": [],
   "source": [
    "import statsmodels.formula.api as smf\n",
    "from IPython.core.display import HTML\n"
   ]
  },
  {
   "cell_type": "code",
   "execution_count": 7,
   "id": "7ab6b452",
   "metadata": {},
   "outputs": [
    {
     "data": {
      "text/html": [
       "<div>\n",
       "<style scoped>\n",
       "    .dataframe tbody tr th:only-of-type {\n",
       "        vertical-align: middle;\n",
       "    }\n",
       "\n",
       "    .dataframe tbody tr th {\n",
       "        vertical-align: top;\n",
       "    }\n",
       "\n",
       "    .dataframe thead th {\n",
       "        text-align: right;\n",
       "    }\n",
       "</style>\n",
       "<table border=\"1\" class=\"dataframe\">\n",
       "  <thead>\n",
       "    <tr style=\"text-align: right;\">\n",
       "      <th></th>\n",
       "      <th>parent_edu</th>\n",
       "      <th>lunch</th>\n",
       "      <th>pre</th>\n",
       "      <th>math</th>\n",
       "      <th>reading</th>\n",
       "      <th>writing</th>\n",
       "      <th>total</th>\n",
       "    </tr>\n",
       "  </thead>\n",
       "  <tbody>\n",
       "    <tr>\n",
       "      <th>0</th>\n",
       "      <td>4</td>\n",
       "      <td>1</td>\n",
       "      <td>0</td>\n",
       "      <td>72</td>\n",
       "      <td>72</td>\n",
       "      <td>74</td>\n",
       "      <td>218</td>\n",
       "    </tr>\n",
       "    <tr>\n",
       "      <th>1</th>\n",
       "      <td>2</td>\n",
       "      <td>1</td>\n",
       "      <td>1</td>\n",
       "      <td>69</td>\n",
       "      <td>90</td>\n",
       "      <td>88</td>\n",
       "      <td>247</td>\n",
       "    </tr>\n",
       "    <tr>\n",
       "      <th>2</th>\n",
       "      <td>5</td>\n",
       "      <td>1</td>\n",
       "      <td>0</td>\n",
       "      <td>90</td>\n",
       "      <td>95</td>\n",
       "      <td>93</td>\n",
       "      <td>278</td>\n",
       "    </tr>\n",
       "    <tr>\n",
       "      <th>3</th>\n",
       "      <td>3</td>\n",
       "      <td>0</td>\n",
       "      <td>0</td>\n",
       "      <td>47</td>\n",
       "      <td>57</td>\n",
       "      <td>44</td>\n",
       "      <td>148</td>\n",
       "    </tr>\n",
       "    <tr>\n",
       "      <th>4</th>\n",
       "      <td>2</td>\n",
       "      <td>1</td>\n",
       "      <td>0</td>\n",
       "      <td>76</td>\n",
       "      <td>78</td>\n",
       "      <td>75</td>\n",
       "      <td>229</td>\n",
       "    </tr>\n",
       "  </tbody>\n",
       "</table>\n",
       "</div>"
      ],
      "text/plain": [
       "   parent_edu  lunch  pre  math  reading  writing  total\n",
       "0           4      1    0    72       72       74    218\n",
       "1           2      1    1    69       90       88    247\n",
       "2           5      1    0    90       95       93    278\n",
       "3           3      0    0    47       57       44    148\n",
       "4           2      1    0    76       78       75    229"
      ]
     },
     "execution_count": 7,
     "metadata": {},
     "output_type": "execute_result"
    }
   ],
   "source": [
    "\n",
    "data[\"parent_edu\"].replace([\"some_high\", \"high\",\"some_college\", \n",
    "                            \"bachelor\", \"associate\", \"master\"], [0,1,2,4,3,5], inplace=True)\n",
    "\n",
    "data[\"lunch\"].replace([\"standard\", \"free/reduced\"], [1,0], inplace=True)\n",
    "\n",
    "data[\"pre\"].replace([\"none\", \"completed\"], [0,1], inplace=True)\n",
    "\n",
    "data.head()\n"
   ]
  },
  {
   "cell_type": "markdown",
   "id": "49b69541",
   "metadata": {},
   "source": [
    "data[\"parent_edu\"].replace([\"some high school\", \"high school\",\"some college\", \"bachelor's degree\", \"associate's degree\",\n",
    "                            \"master's degree\"], [0,1,2,4,3,5], inplace=True)\n"
   ]
  },
  {
   "cell_type": "markdown",
   "id": "a820fd2d",
   "metadata": {},
   "source": [
    "\n",
    "\n",
    "\n",
    "\n",
    "\n",
    "\n",
    "# 3. Models\n"
   ]
  },
  {
   "cell_type": "markdown",
   "id": "08fcf011",
   "metadata": {},
   "source": [
    "### 3.1 First Model: without covariates\n",
    "\n",
    "\n",
    "In the first model, we directly run a OLS regression with total score as dependent variable, and parent_education as independent variable\n"
   ]
  },
  {
   "cell_type": "code",
   "execution_count": 8,
   "id": "79885cf4",
   "metadata": {
    "scrolled": true
   },
   "outputs": [
    {
     "name": "stdout",
     "output_type": "stream",
     "text": [
      "                            OLS Regression Results                            \n",
      "==============================================================================\n",
      "Dep. Variable:                  total   R-squared:                       0.042\n",
      "Model:                            OLS   Adj. R-squared:                  0.041\n",
      "Method:                 Least Squares   F-statistic:                     44.13\n",
      "Date:                Wed, 04 May 2022   Prob (F-statistic):           5.04e-11\n",
      "Time:                        03:04:51   Log-Likelihood:                -5152.7\n",
      "No. Observations:                1000   AIC:                         1.031e+04\n",
      "Df Residuals:                     998   BIC:                         1.032e+04\n",
      "Df Model:                           1                                         \n",
      "Covariance Type:            nonrobust                                         \n",
      "==============================================================================\n",
      "                 coef    std err          t      P>|t|      [0.025      0.975]\n",
      "------------------------------------------------------------------------------\n",
      "Intercept    190.7693      2.306     82.720      0.000     186.244     195.295\n",
      "parent_edu     6.0273      0.907      6.643      0.000       4.247       7.808\n",
      "==============================================================================\n",
      "Omnibus:                       13.850   Durbin-Watson:                   2.010\n",
      "Prob(Omnibus):                  0.001   Jarque-Bera (JB):               14.235\n",
      "Skew:                          -0.292   Prob(JB):                     0.000811\n",
      "Kurtosis:                       2.969   Cond. No.                         4.91\n",
      "==============================================================================\n",
      "\n",
      "Notes:\n",
      "[1] Standard Errors assume that the covariance matrix of the errors is correctly specified.\n"
     ]
    }
   ],
   "source": [
    "est1 = smf.ols(formula=\"total ~ parent_edu \", data=data).fit()\n",
    "print(est1.summary())"
   ]
  },
  {
   "cell_type": "markdown",
   "id": "97c10bb1",
   "metadata": {},
   "source": [
    "### 3.2 Second Model:\n",
    "\n",
    "In the second model, we added two covariates into the model. We included variables indicating whether students had lunch, and whether students completed test preperation course before the test "
   ]
  },
  {
   "cell_type": "code",
   "execution_count": 9,
   "id": "9a4d5d41",
   "metadata": {
    "scrolled": true
   },
   "outputs": [
    {
     "name": "stdout",
     "output_type": "stream",
     "text": [
      "                            OLS Regression Results                            \n",
      "==============================================================================\n",
      "Dep. Variable:                  total   R-squared:                       0.199\n",
      "Model:                            OLS   Adj. R-squared:                  0.196\n",
      "Method:                 Least Squares   F-statistic:                     82.31\n",
      "Date:                Wed, 04 May 2022   Prob (F-statistic):           1.42e-47\n",
      "Time:                        03:04:51   Log-Likelihood:                -5063.6\n",
      "No. Observations:                1000   AIC:                         1.014e+04\n",
      "Df Residuals:                     996   BIC:                         1.015e+04\n",
      "Df Model:                           3                                         \n",
      "Covariance Type:            nonrobust                                         \n",
      "==============================================================================\n",
      "                 coef    std err          t      P>|t|      [0.025      0.975]\n",
      "------------------------------------------------------------------------------\n",
      "Intercept    164.5617      2.857     57.601      0.000     158.955     170.168\n",
      "parent_edu     6.2864      0.831      7.565      0.000       4.656       7.917\n",
      "lunch         26.7615      2.535     10.556      0.000      21.787      31.736\n",
      "pre           23.4835      2.530      9.283      0.000      18.519      28.448\n",
      "==============================================================================\n",
      "Omnibus:                        9.248   Durbin-Watson:                   2.048\n",
      "Prob(Omnibus):                  0.010   Jarque-Bera (JB):                9.314\n",
      "Skew:                          -0.220   Prob(JB):                      0.00950\n",
      "Kurtosis:                       2.828   Cond. No.                         8.00\n",
      "==============================================================================\n",
      "\n",
      "Notes:\n",
      "[1] Standard Errors assume that the covariance matrix of the errors is correctly specified.\n"
     ]
    }
   ],
   "source": [
    "est2 = smf.ols(formula=\"total ~ parent_edu + lunch + pre \", data=data).fit()\n",
    "print(est2.summary())"
   ]
  },
  {
   "cell_type": "markdown",
   "id": "0a9b376a",
   "metadata": {},
   "source": [
    "### 3.3 Third Model: \n",
    "\n",
    "In the third model, we created dummy variables on parental level of education. "
   ]
  },
  {
   "cell_type": "code",
   "execution_count": 11,
   "id": "ddade406",
   "metadata": {},
   "outputs": [
    {
     "name": "stdout",
     "output_type": "stream",
     "text": [
      "                            OLS Regression Results                            \n",
      "==============================================================================\n",
      "Dep. Variable:                  total   R-squared:                       0.204\n",
      "Model:                            OLS   Adj. R-squared:                  0.198\n",
      "Method:                 Least Squares   F-statistic:                     36.31\n",
      "Date:                Wed, 04 May 2022   Prob (F-statistic):           2.36e-45\n",
      "Time:                        03:06:23   Log-Likelihood:                -5060.3\n",
      "No. Observations:                1000   AIC:                         1.014e+04\n",
      "Df Residuals:                     992   BIC:                         1.018e+04\n",
      "Df Model:                           7                                         \n",
      "Covariance Type:            nonrobust                                         \n",
      "================================================================================\n",
      "                   coef    std err          t      P>|t|      [0.025      0.975]\n",
      "--------------------------------------------------------------------------------\n",
      "Intercept      154.7823      1.978     78.236      0.000     150.900     158.665\n",
      "some_high       13.0227      2.717      4.793      0.000       7.691      18.354\n",
      "high            10.7537      2.599      4.138      0.000       5.653      15.854\n",
      "some_college    25.4228      2.462     10.327      0.000      20.592      30.254\n",
      "bachelor        35.2564      3.211     10.979      0.000      28.955      41.558\n",
      "associate       27.9682      2.483     11.263      0.000      23.095      32.841\n",
      "master          42.3586      4.373      9.686      0.000      33.777      50.940\n",
      "lunch           26.7151      2.533     10.548      0.000      21.745      31.685\n",
      "pre             23.0328      2.539      9.073      0.000      18.051      28.014\n",
      "==============================================================================\n",
      "Omnibus:                        9.522   Durbin-Watson:                   2.052\n",
      "Prob(Omnibus):                  0.009   Jarque-Bera (JB):                9.660\n",
      "Skew:                          -0.229   Prob(JB):                      0.00799\n",
      "Kurtosis:                       2.850   Cond. No.                     1.41e+16\n",
      "==============================================================================\n",
      "\n",
      "Notes:\n",
      "[1] Standard Errors assume that the covariance matrix of the errors is correctly specified.\n",
      "[2] The smallest eigenvalue is 9.07e-30. This might indicate that there are\n",
      "strong multicollinearity problems or that the design matrix is singular.\n"
     ]
    }
   ],
   "source": [
    "\n",
    "\n",
    "data[\"parent_edu\"].replace([0,1,2,4,3,5], [\"some_high\", \"high\",\"some_college\", \n",
    "                            \"bachelor\", \"associate\", \"master\"], inplace=True)\n",
    "\n",
    "\n",
    "\n",
    "parent_dummy = pd.get_dummies(data['parent_edu'])\n",
    "\n",
    "\n",
    "data = pd.concat([data,parent_dummy], axis=1)\n",
    "\n",
    "\n",
    "est3 = smf.ols(formula=\"total ~ some_high + high  + some_college + bachelor + associate + master + lunch + pre \", data=data).fit()\n",
    "print(est3.summary())"
   ]
  },
  {
   "cell_type": "markdown",
   "id": "4fc3fb5a",
   "metadata": {},
   "source": [
    "\n",
    "\n",
    "# 4. Findings "
   ]
  },
  {
   "cell_type": "markdown",
   "id": "fdabd891",
   "metadata": {},
   "source": [
    "### 4.a 0. Summary\n",
    "\n",
    "Most students’ parental level of education are high school and some high school; students with Master parental level of education only take part in a small percentage. However, there are still around 50% of students having at least some college parental level of education (lower than Master level).\n"
   ]
  },
  {
   "cell_type": "markdown",
   "id": "e82f8852",
   "metadata": {},
   "source": [
    "### 4.a 1. First Model: without covariates\n",
    "\n",
    "In the results of the without covariates model, the F test statistic value shows that 44.13 is the joint significance of the model. Adjusted R squared is 0.041. The low adjusted R squared value explains that parental level of education can only explain 4.1% of academic performance of students, and there should be other variables together to explain the rest 95.9%.\n",
    "The coefficient of 6.0273 for parental level of education indicates that one level increase in parental level of education corresponds to 6.0273 increase in students' academic scores, along with the P-value, the result shows that the parental level of education is significantly and positively impacting students’ academic scores at 5 percent significance level.\n"
   ]
  },
  {
   "cell_type": "markdown",
   "id": "724095ff",
   "metadata": {},
   "source": [
    "### 4.a 2. Second Model: add two covariates \n",
    "\n",
    "F test value is 82.31. The adjusted R squared is 0.196, and the value is higher than the first model, which means adding two more independent variables as covariates makes it a better fit value to the OLS model. This also indicates that these two covariates besides parental level of education can help to explain academic performance of students, as compared this 19.6% to previous 4.1%.\n",
    "The coefficient for parental level of education does not vary much, while the coefficient of lunch and test preparation course have a higher coefficient above 20 for each at 5% significance level, showing that lunch and test preparation course as two covariates did play an important role in positively affecting students’ academic performance.\n"
   ]
  },
  {
   "cell_type": "markdown",
   "id": "c1fb1a4a",
   "metadata": {},
   "source": [
    "### 4.a 3. Third Model: add dummy variables\n",
    "\n",
    "In the third model with dummy variables, the model has eight independent variables after categorizing the parental level of education into 5 different levels. The F value is 36.31, and the adjusted R squared values are 0.198, which is a little bit higher than the previous model, indicating that specifying parental level of education helps better explain the impact on students’ academic performance.\n",
    "All eight variables are positively and significantly related to total scores at 5% significance level.\n",
    "The students’ academic scores with Master parental level of education are positively impacted the most, with the coefficient of 42.3568, while parents with high and some high level of education impact the students’ academic scores the least, with the coefficient of 10.7537 and 13.0227 respectively. This can indicate that a higher level of parental education tends to associate with a higher students' academic scores.\n",
    "\n"
   ]
  },
  {
   "cell_type": "markdown",
   "id": "4efdd889",
   "metadata": {},
   "source": [
    "### 4.b Whether it is robust\n",
    "\n",
    "Our findings are robust to different model specifications. For three different models, while we change independent variables or adding covariates, the result does not vary much as they all display a positive and significant relationship between parental level of education and students’ academic scores.\n",
    "\n"
   ]
  },
  {
   "cell_type": "markdown",
   "id": "d40107db",
   "metadata": {},
   "source": [
    "\n",
    "\n",
    "# 5. Conclusion"
   ]
  },
  {
   "cell_type": "markdown",
   "id": "ecebbc52",
   "metadata": {},
   "source": [
    "### 5.a What can be learned\n",
    "\n",
    "Regarding the findings above, we can conclude that our hypothesis is correct, which indicates that the casual relationship between parental level of education and students’ academic performance is observable, and parental level of education has a positive and significant impact on students' academic scores. More importantly, in general, parents with a higher level of education tend to have a greater impact on students’ academic performance. Besides, providing standard lunch and helping students with course preparation should also be considered when intending to foster students’ academic success at school. Therefore, policymakers and educators should call more attention to the importance of designing appropriate policies to support people for receiving better education, as it will not only affect themselves but also potentially affect their future children. In the situation where parents lack financial support to continue their education after high school, schools should be aware to take good care of the students’ lunches and ensure students have some commitment to their test preparation course, as this is a way to improve students’ academic performance besides increasing the impact of their parental level of education.\n",
    "\n"
   ]
  },
  {
   "cell_type": "markdown",
   "id": "651abafe",
   "metadata": {},
   "source": [
    "### 5.b future questions can be answered\n",
    "\n",
    "Since we notice that there can be more influencing factors besides parental level of education affecting students’ academic performance, in the future, researchers could consider conducting research on other factors, such as parents’ socioeconomic status, parents’ stress level, peer pressure, etc. In terms of today’s digital trend, we can also ask whether there is a casual relationship between the frequency of students’ use of technology and their academic performance, and whether they are positively or negatively related. \n"
   ]
  },
  {
   "cell_type": "markdown",
   "id": "7dd1dcb2",
   "metadata": {},
   "source": [
    "# Works Cited\n",
    "\n",
    "Egalite, A. J. (2016). How family background influences student achievement. Education Next, 16(2),70-78.\n",
    "\n",
    "Farooq, M. S., Chaudhry, A. H., Shafiq, M., & Berhanu, G. (2011). Factors affecting students’ quality of academic performance: a case of secondary school level. Journal of quality and technology management, 7(2), 1-14.\n",
    "\n",
    "Hijazi, S. T., & Naqvi, S. M. M. (2006). FACTORS AFFECTING STUDENTS' PERFORMANCE.Bangladesh e-journal of Sociology, 3(1).\n",
    "\n",
    "Jaggia, S., & Kelly‐Hawke, A. (1999). An analysis of the factors that influence student performance: A fresh approach to an old debate. Contemporary Economic Policy, 17(2), 189-198.\n"
   ]
  }
 ],
 "metadata": {
  "kernelspec": {
   "display_name": "Python 3 (ipykernel)",
   "language": "python",
   "name": "python3"
  },
  "language_info": {
   "codemirror_mode": {
    "name": "ipython",
    "version": 3
   },
   "file_extension": ".py",
   "mimetype": "text/x-python",
   "name": "python",
   "nbconvert_exporter": "python",
   "pygments_lexer": "ipython3",
   "version": "3.9.7"
  }
 },
 "nbformat": 4,
 "nbformat_minor": 5
}
